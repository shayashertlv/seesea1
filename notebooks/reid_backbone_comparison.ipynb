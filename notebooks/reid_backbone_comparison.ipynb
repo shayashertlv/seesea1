{
  "cells": [
    {
      "cell_type": "markdown",
      "metadata": {},
      "source": [
        "# Re-ID Backbone Comparison\n",
        "\n",
        "This notebook demonstrates how to compare multiple appearance backbones (e.g. `osnet`, `dinov2_vitl14`) using the `tools/eval_reid.py` utility."
      ]
    },
    {
      "cell_type": "code",
      "execution_count": null,
      "metadata": {},
      "outputs": [],
      "source": [
        "import json\n",
        "import pathlib\n",
        "import subprocess\n",
        "import pandas as pd\n",
        "\n",
        "PROJECT_ROOT = pathlib.Path('..').resolve()\n",
        "EVAL_SCRIPT = PROJECT_ROOT / 'tools' / 'eval_reid.py'\n",
        "RESULTS_DIR = PROJECT_ROOT / 'artifacts' / 'reid_embeddings'\n",
        "BACKBONES = ['osnet', 'dinov2_vitl14', 'clip_vitl14']\n"
      ]
    },
    {
      "cell_type": "markdown",
      "metadata": {},
      "source": [
        "## Evaluate mAP/CMC\n",
        "\n",
        "Embeddings are assumed to be stored in ``RESULTS_DIR / f\"{backbone}_query.npz\"`` and ``RESULTS_DIR / f\"{backbone}_gallery.npz\"``."
      ]
    },
    {
      "cell_type": "code",
      "execution_count": null,
      "metadata": {},
      "outputs": [],
      "source": [
        "records = []\n",
        "for backbone in BACKBONES:\n",
        "    query_file = RESULTS_DIR / f'{backbone}_query.npz'\n",
        "    gallery_file = RESULTS_DIR / f'{backbone}_gallery.npz'\n",
        "    if not query_file.exists() or not gallery_file.exists():\n",
        "        print(f'Skipping {backbone}: missing embedding files')\n",
        "        continue\n",
        "    completed = subprocess.run(\n",
        "        ['python', str(EVAL_SCRIPT), 'reid', '--query', str(query_file), '--gallery', str(gallery_file)],\n",
        "        capture_output=True,\n",
        "        check=True,\n",
        "        text=True,\n",
        "    )\n",
        "    metrics = json.loads(completed.stdout)\n",
        "    record = {'backbone': backbone, 'mAP': metrics['mAP']}\n",
        "    # Populate a few standard ranks\n",
        "    for rank_key, value in metrics['CMC'].items():\n",
        "        if rank_key in {'rank-1', 'rank-5', 'rank-10'}:\n",
        "            record[rank_key] = value\n",
        "    records.append(record)\n",
        "\n",
        "comparison = pd.DataFrame.from_records(records)\n",
        "comparison.sort_values('mAP', ascending=False, inplace=True)\n",
        "comparison.reset_index(drop=True, inplace=True)\n",
        "comparison"
      ]
    },
    {
      "cell_type": "markdown",
      "metadata": {},
      "source": [
        "## Visualize retrieval examples\n",
        "\n",
        "Once the backbone is chosen, we can inspect top retrievals."
      ]
    },
    {
      "cell_type": "code",
      "execution_count": null,
      "metadata": {},
      "outputs": [],
      "source": [
        "import numpy as np\n",
        "\n",
        "def rank_gallery(query_feat: np.ndarray, gallery_feats: np.ndarray) -> np.ndarray:\n",
        "    query = query_feat / np.linalg.norm(query_feat)\n",
        "    gallery = gallery_feats / np.linalg.norm(gallery_feats, axis=1, keepdims=True)\n",
        "    return np.argsort(gallery @ query)[::-1]\n",
        "\n",
        "# Example usage (paths to be adapted)\n",
        "# query_npz = RESULTS_DIR / 'osnet_query.npz'\n",
        "# gallery_npz = RESULTS_DIR / 'osnet_gallery.npz'\n",
        "# query_data = np.load(query_npz)\n",
        "# gallery_data = np.load(gallery_npz)\n",
        "# order = rank_gallery(query_data['features'][0], gallery_data['features'])\n",
        "# order[:10]"
      ]
    }
  ],
  "metadata": {
    "kernelspec": {
      "display_name": "Python 3",
      "language": "python",
      "name": "python3"
    },
    "language_info": {
      "name": "python",
      "version": "3.10"
    }
  },
  "nbformat": 4,
  "nbformat_minor": 5
}