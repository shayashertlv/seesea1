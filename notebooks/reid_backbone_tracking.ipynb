{
  "cells": [
    {
      "cell_type": "markdown",
      "metadata": {},
      "source": [
        "# Tracking Identity Consistency\n",
        "\n",
        "This notebook shows how to aggregate IDF1 metrics for multiple trackers/backbones using the `tools/eval_reid.py` script."
      ]
    },
    {
      "cell_type": "code",
      "execution_count": null,
      "metadata": {},
      "outputs": [],
      "source": [
        "import json\n",
        "import pathlib\n",
        "import pandas as pd\n",
        "import subprocess\n",
        "\n",
        "PROJECT_ROOT = pathlib.Path('..').resolve()\n",
        "EVAL_SCRIPT = PROJECT_ROOT / 'tools' / 'eval_reid.py'\n",
        "GT_FILE = PROJECT_ROOT / 'datasets' / 'mot' / 'train' / 'MOT17-02' / 'gt' / 'gt.txt'\n",
        "RUNS = {\n",
        "    'osnet': PROJECT_ROOT / 'artifacts' / 'tracks' / 'osnet_MOT17-02.txt',\n",
        "    'dinov2_vitl14': PROJECT_ROOT / 'artifacts' / 'tracks' / 'dinov2_vitl14_MOT17-02.txt',\n",
        "}\n"
      ]
    },
    {
      "cell_type": "code",
      "execution_count": null,
      "metadata": {},
      "outputs": [],
      "source": [
        "records = []\n",
        "for name, track_path in RUNS.items():\n",
        "    if not track_path.exists():\n",
        "        print(f'Skipping {name}: missing track file {track_path}')\n",
        "        continue\n",
        "    completed = subprocess.run(\n",
        "        ['python', str(EVAL_SCRIPT), 'idf1', '--gt', str(GT_FILE), '--pred', str(track_path)],\n",
        "        capture_output=True,\n",
        "        check=True,\n",
        "        text=True,\n",
        "    )\n",
        "    metrics = json.loads(completed.stdout)\n",
        "    records.append({\n",
        "        'model': name,\n",
        "        'IDF1': metrics['IDF1'],\n",
        "        'IDP': metrics['IDP'],\n",
        "        'IDR': metrics['IDR'],\n",
        "    })\n",
        "\n",
        "idf1_table = pd.DataFrame.from_records(records)\n",
        "idf1_table.sort_values('IDF1', ascending=False, inplace=True)\n",
        "idf1_table.reset_index(drop=True, inplace=True)\n",
        "idf1_table"
      ]
    }
  ],
  "metadata": {
    "kernelspec": {
      "display_name": "Python 3",
      "language": "python",
      "name": "python3"
    },
    "language_info": {
      "name": "python",
      "version": "3.10"
    }
  },
  "nbformat": 4,
  "nbformat_minor": 5
}